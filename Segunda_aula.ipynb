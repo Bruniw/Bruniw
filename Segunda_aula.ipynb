{
  "nbformat": 4,
  "nbformat_minor": 0,
  "metadata": {
    "colab": {
      "provenance": [],
      "authorship_tag": "ABX9TyPWCI8GocLyJoX+cuZoEany",
      "include_colab_link": true
    },
    "kernelspec": {
      "name": "python3",
      "display_name": "Python 3"
    },
    "language_info": {
      "name": "python"
    }
  },
  "cells": [
    {
      "cell_type": "markdown",
      "metadata": {
        "id": "view-in-github",
        "colab_type": "text"
      },
      "source": [
        "<a href=\"https://colab.research.google.com/github/Bruniw/Bruniw/blob/main/Segunda_aula.ipynb\" target=\"_parent\"><img src=\"https://colab.research.google.com/assets/colab-badge.svg\" alt=\"Open In Colab\"/></a>"
      ]
    },
    {
      "cell_type": "markdown",
      "source": [],
      "metadata": {
        "id": "_H9CsqTg8p-1"
      }
    },
    {
      "cell_type": "code",
      "source": [
        " lista = [\"Joao\", 1]\n",
        " print (lista)\n",
        "\n",
        " #adicionar elemento na lista\n",
        " lista.append (\"Salto\")\n",
        " print(lista)\n",
        "\n",
        " #adicionar elemento no começo\n",
        " lista =['Brasil']+lista\n",
        " print(lista)\n",
        "\n",
        " "
      ],
      "metadata": {
        "colab": {
          "base_uri": "https://localhost:8080/"
        },
        "id": "Uvm6K0YD8r51",
        "outputId": "d332d85a-0560-47ab-d73c-2a277d0c8e80"
      },
      "execution_count": 10,
      "outputs": [
        {
          "output_type": "stream",
          "name": "stdout",
          "text": [
            "['Joao', 1]\n",
            "['Joao', 1, 'Salto']\n",
            "['Brasil', 'Joao', 1, 'Salto']\n"
          ]
        }
      ]
    }
  ]
}